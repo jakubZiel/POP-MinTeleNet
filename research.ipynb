{
 "cells": [
  {
   "cell_type": "markdown",
   "metadata": {},
   "source": [
    "## Reserach"
   ]
  },
  {
   "cell_type": "code",
   "execution_count": 7,
   "metadata": {},
   "outputs": [],
   "source": [
    "from pathlib import Path\n",
    "from data_model import Network, AlgorithmParameters\n",
    "from parsing import NetworkParser\n",
    "from pathlib import Path\n",
    "from evolution import Evolution\n",
    "from typing import List, Tuple\n",
    "from util import myThread\n",
    "import math"
   ]
  },
  {
   "cell_type": "code",
   "execution_count": 8,
   "metadata": {},
   "outputs": [],
   "source": [
    "populations = [10, 25, 50, 100]\n",
    "crossover_probs = [round(i * 0.1, 2) for i in range(1, 2)]\n",
    "mutation_probs = [round(i * 0.1, 2) for i in range(0, 11)]\n",
    "mutation_power = [round(i * 0.1, 2) for i in range(0, 11)]\n",
    "\n",
    "\n",
    "param_space : List[Tuple[int, float, float, float]] = []\n",
    "\n",
    "for population in populations:\n",
    "    for cross_prob in crossover_probs:\n",
    "        for mut_prob in mutation_probs:\n",
    "            for mut_pwr in mutation_power:\n",
    "                param_space.append((population, cross_prob, mut_prob, mut_pwr))\n"
   ]
  },
  {
   "cell_type": "code",
   "execution_count": 19,
   "metadata": {},
   "outputs": [
    {
     "name": "stdout",
     "output_type": "stream",
     "text": [
      "Run #1 best :4762 best params : (10, 0.0, 0.0, 0.0) current params : (10, 0.0, 0.0, 0.0)\n",
      "Run #2 best :4762 best params : (10, 0.0, 0.0, 0.0) current params : (10, 0.0, 0.0, 0.1)\n",
      "Run #3 best :4762 best params : (10, 0.0, 0.0, 0.0) current params : (10, 0.0, 0.0, 0.2)\n",
      "Run #4 best :4762 best params : (10, 0.0, 0.0, 0.0) current params : (10, 0.0, 0.0, 0.3)\n",
      "Run #5 best :4762 best params : (10, 0.0, 0.0, 0.0) current params : (10, 0.0, 0.0, 0.4)\n",
      "Run #6 best :4659 best params : (10, 0.0, 0.0, 0.5) current params : (10, 0.0, 0.0, 0.5)\n",
      "Run #7 best :4659 best params : (10, 0.0, 0.0, 0.5) current params : (10, 0.0, 0.0, 0.6)\n",
      "Run #8 best :4659 best params : (10, 0.0, 0.0, 0.5) current params : (10, 0.0, 0.0, 0.7)\n",
      "Run #9 best :4659 best params : (10, 0.0, 0.0, 0.5) current params : (10, 0.0, 0.0, 0.8)\n",
      "Run #10 best :4659 best params : (10, 0.0, 0.0, 0.5) current params : (10, 0.0, 0.0, 0.9)\n"
     ]
    }
   ],
   "source": [
    "parser = NetworkParser(Path(\"polska/polska.xml\"))\n",
    "\n",
    "net = Network(\n",
    "    demands=parser.demands(),\n",
    "    links=parser.links(),\n",
    "    modularity=10,\n",
    "    aggregation=False\n",
    ")\n",
    "\n",
    "results: List[Tuple[float, Tuple[int, float, float, float]]] = []\n",
    "counter = 1\n",
    "\n",
    "param_space = param_space[0:10]\n",
    "best = (math.inf, None)\n",
    "for param_combination in param_space:\n",
    "    params = AlgorithmParameters(\n",
    "        population_size=param_combination[0],\n",
    "        crossover_prob=param_combination[1],\n",
    "        tournament_size=2,\n",
    "        mutation_prob=param_combination[2],\n",
    "        mutation_power=param_combination[3],\n",
    "        mutation_range=1,\n",
    "        target_fitness=0,\n",
    "        max_epochs=5000,\n",
    "        stale_epochs_limit=500,\n",
    "    )\n",
    "\n",
    "    evo = Evolution(\n",
    "        network=net,\n",
    "        parameters=params\n",
    "    )\n",
    "\n",
    "    evo.run()\n",
    "    value = evo.get_result()['modules']\n",
    "    \n",
    "    if value < best[0]:\n",
    "        best = (value, param_combination)\n",
    "\n",
    "    print(\"Run #\" + str(counter) + \" best :\" + str(best[0]) + \" best params : \" + str(best[1]) + \" current params : \" + str(param_combination))\n",
    "    counter += 1\n"
   ]
  },
  {
   "cell_type": "code",
   "execution_count": 12,
   "metadata": {},
   "outputs": [
    {
     "name": "stderr",
     "output_type": "stream",
     "text": [
      "Exception in thread Thread-60:\n",
      "Traceback (most recent call last):\n",
      "  File \"/usr/lib/python3.10/threading.py\", line 1009, in _bootstrap_inner\n",
      "    self.run()\n",
      "  File \"/home/jzielins/sem7/POP/project/POP-TeleNet/util.py\", line 32, in run\n",
      "    with open('./results/thread' + self.id, 'w') as file:\n",
      "FileNotFoundError: [Errno 2] No such file or directory: 'results/thread1'\n",
      "Exception in thread Thread-61:\n",
      "Traceback (most recent call last):\n",
      "  File \"/usr/lib/python3.10/threading.py\", line 1009, in _bootstrap_inner\n",
      "    self.run()\n",
      "  File \"/home/jzielins/sem7/POP/project/POP-TeleNet/util.py\", line 32, in run\n",
      "    with open('./results/thread' + self.id, 'w') as file:\n",
      "FileNotFoundError: [Errno 2] No such file or directory: 'results/thread2'\n",
      "Exception in thread Thread-62:\n",
      "Traceback (most recent call last):\n",
      "  File \"/usr/lib/python3.10/threading.py\", line 1009, in _bootstrap_inner\n",
      "    self.run()\n",
      "  File \"/home/jzielins/sem7/POP/project/POP-TeleNet/util.py\", line 32, in run\n",
      "Exception in thread Thread-59:\n",
      "Traceback (most recent call last):\n",
      "  File \"/usr/lib/python3.10/threading.py\", line 1009, in _bootstrap_inner\n",
      "    with open('./results/thread' + self.id, 'w') as file:\n",
      "FileNotFoundError: [Errno 2] No such file or directory: 'results/thread3'\n",
      "    self.run()\n",
      "  File \"/home/jzielins/sem7/POP/project/POP-TeleNet/util.py\", line 32, in run\n",
      "    with open('./results/thread' + self.id, 'w') as file:\n",
      "FileNotFoundError: [Errno 2] No such file or directory: 'results/thread0'\n",
      "Exception in thread Thread-65:\n",
      "Traceback (most recent call last):\n",
      "  File \"/usr/lib/python3.10/threading.py\", line 1009, in _bootstrap_inner\n",
      "    self.run()\n",
      "  File \"/home/jzielins/sem7/POP/project/POP-TeleNet/util.py\", line 32, in run\n",
      "Exception in thread Thread-64:\n",
      "Traceback (most recent call last):\n",
      "  File \"/usr/lib/python3.10/threading.py\", line 1009, in _bootstrap_inner\n",
      "    self.run()\n",
      "  File \"/home/jzielins/sem7/POP/project/POP-TeleNet/util.py\", line 32, in run\n",
      "    with open('./results/thread' + self.id, 'w') as file:\n",
      "FileNotFoundError: [Errno 2] No such file or directory: 'results/thread5'\n",
      "    with open('./results/thread' + self.id, 'w') as file:\n",
      "FileNotFoundError: [Errno 2] No such file or directory: 'results/thread6'\n",
      "Exception in thread Thread-63:\n",
      "Traceback (most recent call last):\n",
      "  File \"/usr/lib/python3.10/threading.py\", line 1009, in _bootstrap_inner\n",
      "    self.run()\n",
      "  File \"/home/jzielins/sem7/POP/project/POP-TeleNet/util.py\", line 32, in run\n",
      "    with open('./results/thread' + self.id, 'w') as file:\n",
      "FileNotFoundError: [Errno 2] No such file or directory: 'results/thread4'\n",
      "Exception in thread Thread-67:\n",
      "Traceback (most recent call last):\n",
      "  File \"/usr/lib/python3.10/threading.py\", line 1009, in _bootstrap_inner\n",
      "Exception in thread Thread-68:\n",
      "Traceback (most recent call last):\n",
      "  File \"/usr/lib/python3.10/threading.py\", line 1009, in _bootstrap_inner\n",
      "    self.run()\n",
      "  File \"/home/jzielins/sem7/POP/project/POP-TeleNet/util.py\", line 32, in run\n",
      "    with open('./results/thread' + self.id, 'w') as file:\n",
      "FileNotFoundError: [Errno 2] No such file or directory: 'results/thread9'\n",
      "Exception in thread Thread-66:\n",
      "Traceback (most recent call last):\n",
      "  File \"/usr/lib/python3.10/threading.py\", line 1009, in _bootstrap_inner\n",
      "    self.run()\n",
      "  File \"/home/jzielins/sem7/POP/project/POP-TeleNet/util.py\", line 32, in run\n",
      "    self.run()\n",
      "  File \"/home/jzielins/sem7/POP/project/POP-TeleNet/util.py\", line 32, in run\n",
      "    with open('./results/thread' + self.id, 'w') as file:\n",
      "FileNotFoundError: [Errno 2] No such file or directory: 'results/thread7'\n",
      "    with open('./results/thread' + self.id, 'w') as file:\n",
      "FileNotFoundError: [Errno 2] No such file or directory: 'results/thread8'\n"
     ]
    },
    {
     "name": "stdout",
     "output_type": "stream",
     "text": [
      "(0, 0.0, 0.0, 0.0)\n",
      "inf\n"
     ]
    }
   ],
   "source": [
    "thread_number = 10\n",
    "\n",
    "net = Network(\n",
    "    demands=parser.demands(),\n",
    "    links=parser.links(),\n",
    "    modularity=10,\n",
    "    aggregation=False\n",
    ")\n",
    "\n",
    "param_groups = len(param_space) // thread_number\n",
    "threads = [myThread(param_space[param_groups * id : param_groups * (id + 1)], str(id)) for id in range(0, thread_number)]\n",
    "\n",
    "for thread in threads:\n",
    "    thread.start()\n",
    "\n",
    "for thread in threads:\n",
    "    thread.join()\n",
    "\n",
    "best_fitness: float = math.inf\n",
    "best_params: Tuple[int, float, float, float] = (0, 0.0, 0.0, 0.0)\n",
    "\n",
    "for thread in threads:\n",
    "    if best_fitness < thread.best_value:\n",
    "        best_params = thread.best_params\n",
    "        best_fitness = thread.best_value\n",
    "\n",
    "print(best_params)\n",
    "print(best_fitness)"
   ]
  }
 ],
 "metadata": {
  "interpreter": {
   "hash": "916dbcbb3f70747c44a77c7bcd40155683ae19c65e1c03b4aa3499c5328201f1"
  },
  "kernelspec": {
   "display_name": "Python 3.10.4 64-bit",
   "language": "python",
   "name": "python3"
  },
  "language_info": {
   "codemirror_mode": {
    "name": "ipython",
    "version": 3
   },
   "file_extension": ".py",
   "mimetype": "text/x-python",
   "name": "python",
   "nbconvert_exporter": "python",
   "pygments_lexer": "ipython3",
   "version": "3.10.4"
  },
  "orig_nbformat": 4
 },
 "nbformat": 4,
 "nbformat_minor": 2
}
